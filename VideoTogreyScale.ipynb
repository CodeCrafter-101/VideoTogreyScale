{
  "nbformat": 4,
  "nbformat_minor": 0,
  "metadata": {
    "colab": {
      "provenance": [],
      "authorship_tag": "ABX9TyMNWiWpg+O0nC4qczG7qEqb",
      "include_colab_link": true
    },
    "kernelspec": {
      "name": "python3",
      "display_name": "Python 3"
    },
    "language_info": {
      "name": "python"
    }
  },
  "cells": [
    {
      "cell_type": "markdown",
      "metadata": {
        "id": "view-in-github",
        "colab_type": "text"
      },
      "source": [
        "<a href=\"https://colab.research.google.com/github/CodeCrafter-101/VideoTogreyScale/blob/main/VideoTogreyScale.ipynb\" target=\"_parent\"><img src=\"https://colab.research.google.com/assets/colab-badge.svg\" alt=\"Open In Colab\"/></a>"
      ]
    },
    {
      "cell_type": "code",
      "execution_count": 1,
      "metadata": {
        "colab": {
          "base_uri": "https://localhost:8080/"
        },
        "id": "cbLI4L9ZJykC",
        "outputId": "fec699b3-f717-4cd0-db53-2a32b53e1e51"
      },
      "outputs": [
        {
          "output_type": "stream",
          "name": "stdout",
          "text": [
            "Requirement already satisfied: opencv-python in /usr/local/lib/python3.11/dist-packages (4.11.0.86)\n",
            "Requirement already satisfied: numpy>=1.21.2 in /usr/local/lib/python3.11/dist-packages (from opencv-python) (2.0.2)\n"
          ]
        }
      ],
      "source": [
        "! pip install opencv-python"
      ]
    },
    {
      "cell_type": "code",
      "source": [
        "import requests, shutil\n",
        "\n",
        "url = 'https://sample-videos.com/video123/mp4/720/big_buck_bunny_720p_1mb.mp4'\n",
        "with requests.get(url, stream=True) as r:\n",
        "    with open('your_video.mp4', 'wb') as f:\n",
        "        shutil.copyfileobj(r.raw, f)"
      ],
      "metadata": {
        "id": "Rgs2ssvxKsRG"
      },
      "execution_count": null,
      "outputs": []
    },
    {
      "cell_type": "code",
      "source": [
        "import cv2\n",
        "import matplotlib.pyplot as plt\n",
        "\n",
        "# Load video file\n",
        "cap = cv2.VideoCapture('your_video.mp4')  # Replace with a real video file\n",
        "\n",
        "# Read and show 3 frames only for demo\n",
        "frame_count = 0\n",
        "while True:\n",
        "    ret, frame = cap.read()\n",
        "    if not ret or frame_count >= 3:\n",
        "        break\n",
        "\n",
        "    gray_frame = cv2.cvtColor(frame, cv2.COLOR_BGR2GRAY)\n",
        "\n",
        "    # Show frames using matplotlib\n",
        "    plt.figure(figsize=(10, 4))\n",
        "\n",
        "    plt.subplot(1, 2, 1)\n",
        "    plt.imshow(cv2.cvtColor(frame, cv2.COLOR_BGR2RGB))\n",
        "    plt.title('Original')\n",
        "    plt.axis('off')\n",
        "\n",
        "    plt.subplot(1, 2, 2)\n",
        "    plt.imshow(gray_frame, cmap='gray')\n",
        "    plt.title('Grayscale')\n",
        "    plt.axis('off')\n",
        "\n",
        "    plt.show()\n",
        "\n",
        "    frame_count += 1\n",
        "\n",
        "cap.release()\n"
      ],
      "metadata": {
        "id": "cuPpJA8PKvjN"
      },
      "execution_count": null,
      "outputs": []
    }
  ]
}